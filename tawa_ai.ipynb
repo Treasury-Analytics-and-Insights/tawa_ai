{
 "cells": [
  {
   "cell_type": "markdown",
   "metadata": {},
   "source": [
    "# OpenAI Chatbot with TAWA data (v3)\n",
    "\n",
    "This TAWA output is from TAR 295, which modelled several single tier FTC changes, one of which was chosen for Budget 22.\n",
    "\n",
    "in this version we have reintroduced margin of error for poverty estimates"
   ]
  },
  {
   "cell_type": "code",
   "execution_count": 1,
   "metadata": {},
   "outputs": [],
   "source": [
    "from aipy.ai import *\n",
    "import pandas as pd\n",
    "import yaml\n",
    "import jinja2\n",
    "import tiktoken\n",
    "\n"
   ]
  },
  {
   "cell_type": "markdown",
   "metadata": {},
   "source": [
    "## Available models"
   ]
  },
  {
   "cell_type": "code",
   "execution_count": 2,
   "metadata": {},
   "outputs": [],
   "source": [
    "models = openai.Model.list().data"
   ]
  },
  {
   "cell_type": "markdown",
   "metadata": {},
   "source": [
    "### GPT-4"
   ]
  },
  {
   "cell_type": "code",
   "execution_count": 3,
   "metadata": {},
   "outputs": [
    {
     "data": {
      "text/plain": [
       "['gpt-4-1106-preview',\n",
       " 'gpt-4-vision-preview',\n",
       " 'gpt-4',\n",
       " 'gpt-4-0314',\n",
       " 'gpt-4-0613']"
      ]
     },
     "execution_count": 3,
     "metadata": {},
     "output_type": "execute_result"
    }
   ],
   "source": [
    "[m['id'] for m in models if m['id'].startswith('gpt-4')]"
   ]
  },
  {
   "cell_type": "markdown",
   "metadata": {},
   "source": [
    "### GPT-3.5"
   ]
  },
  {
   "cell_type": "code",
   "execution_count": 4,
   "metadata": {},
   "outputs": [
    {
     "data": {
      "text/plain": [
       "['gpt-3.5-turbo-instruct',\n",
       " 'gpt-3.5-turbo-instruct-0914',\n",
       " 'gpt-3.5-turbo-0613',\n",
       " 'gpt-3.5-turbo-0301',\n",
       " 'gpt-3.5-turbo',\n",
       " 'gpt-3.5-turbo-16k-0613',\n",
       " 'gpt-3.5-turbo-16k',\n",
       " 'gpt-3.5-turbo-1106']"
      ]
     },
     "execution_count": 4,
     "metadata": {},
     "output_type": "execute_result"
    }
   ],
   "source": [
    "[m['id'] for m in models if m['id'].startswith('gpt-3.5')]"
   ]
  },
  {
   "cell_type": "markdown",
   "metadata": {},
   "source": [
    "## Load data"
   ]
  },
  {
   "cell_type": "markdown",
   "metadata": {},
   "source": [
    "tawa_details contains the tax year and the reform scenario descriptions"
   ]
  },
  {
   "cell_type": "code",
   "execution_count": 5,
   "metadata": {},
   "outputs": [],
   "source": [
    "with open('tawa_details.yaml') as f:\n",
    "    tawa_details = yaml.load(f, Loader=yaml.FullLoader)\n"
   ]
  },
  {
   "cell_type": "code",
   "execution_count": 6,
   "metadata": {},
   "outputs": [],
   "source": [
    "tawa = pd.read_csv(\"input/tawa.csv\")\n",
    "\n",
    "tawa.drop(columns=['Name', 'Rounding_Rule', 'Population'], inplace=True)"
   ]
  },
  {
   "cell_type": "code",
   "execution_count": 7,
   "metadata": {},
   "outputs": [],
   "source": [
    "fiscals = tawa[\n",
    "    (tawa.Topic == 'Fiscals') & (tawa.Variable == 'Disposable_Income')][\n",
    "        ['Scenario', 'Value']]"
   ]
  },
  {
   "cell_type": "code",
   "execution_count": 8,
   "metadata": {},
   "outputs": [],
   "source": [
    "wnl_cols = [\n",
    "    'Scenario', 'Variable', 'Winner_Loser', 'Eq_DI_Quantile','Value']\n",
    "wnl_vars = ['Mean_Weekly_Change', 'Population_In_Category']\n",
    "\n",
    "wnl = tawa[\n",
    "    (tawa.Topic == \"WnL\") & tawa.Variable.isin(wnl_vars) & \n",
    "    (tawa.WnL_Group == \"All Households\")][wnl_cols]\n",
    "wnl.Eq_DI_Quantile = pd.Categorical(\n",
    "    wnl.Eq_DI_Quantile, categories=[str(i) for i in range(1, 11)]+['All'], \n",
    "    ordered=True)\n",
    "wnl.Winner_Loser = pd.Categorical(\n",
    "    wnl.Winner_Loser, categories=['Winners', 'Losers', 'All'], ordered=True)\n"
   ]
  },
  {
   "cell_type": "code",
   "execution_count": 9,
   "metadata": {},
   "outputs": [],
   "source": [
    "wnl_wide = wnl.pivot_table(index=['Scenario', 'Eq_DI_Quantile'], columns=['Winner_Loser', 'Variable'], values='Value', aggfunc='first')\n",
    "wnl_wide.columns = ['_'.join(col).strip() for col in wnl_wide.columns.values]\n",
    "wnl_wide.reset_index(inplace=True)"
   ]
  },
  {
   "cell_type": "code",
   "execution_count": 11,
   "metadata": {},
   "outputs": [],
   "source": [
    "poverty = tawa[\n",
    "    (tawa.Topic == \"Poverty\") & (tawa.Variable == \"Change_In_Population_In_Poverty\")\n",
    "    & (tawa.Population_Type == \"Children\")][\n",
    "        ['Scenario', 'Poverty_Type', 'Value', 'Margin_Of_Error']]"
   ]
  },
  {
   "cell_type": "markdown",
   "metadata": {},
   "source": [
    "## Prime model"
   ]
  },
  {
   "cell_type": "code",
   "execution_count": 13,
   "metadata": {},
   "outputs": [],
   "source": [
    "with open('tawa_priming.jinja2') as f:\n",
    "    priming_template = jinja2.Template(f.read())"
   ]
  },
  {
   "cell_type": "code",
   "execution_count": 14,
   "metadata": {},
   "outputs": [],
   "source": [
    "chat = Chat()\n",
    "chat.add_context(\n",
    "    priming_template.render(\n",
    "        tawa_details=tawa_details, fiscals=fiscals, wnl_wide=wnl_wide, \n",
    "        poverty=poverty))"
   ]
  },
  {
   "cell_type": "markdown",
   "metadata": {},
   "source": [
    "Display number of tokens in the context before asking any questions"
   ]
  },
  {
   "cell_type": "code",
   "execution_count": 15,
   "metadata": {},
   "outputs": [],
   "source": [
    "def num_tokens_from_string(string: str, encoding_name: str) -> int:\n",
    "    encoding = tiktoken.encoding_for_model(encoding_name)\n",
    "    num_tokens = len(encoding.encode(string))\n",
    "    return num_tokens\n",
    "\n"
   ]
  },
  {
   "cell_type": "code",
   "execution_count": 16,
   "metadata": {},
   "outputs": [],
   "source": [
    "content = '\\n'.join([m['content'] for m in chat.messages])"
   ]
  },
  {
   "cell_type": "code",
   "execution_count": 17,
   "metadata": {},
   "outputs": [
    {
     "name": "stdout",
     "output_type": "stream",
     "text": [
      "Number of tokens: 2309\n"
     ]
    }
   ],
   "source": [
    "print(f\"Number of tokens: {num_tokens_from_string(content, 'gpt-4')}\")"
   ]
  },
  {
   "cell_type": "markdown",
   "metadata": {},
   "source": [
    "This number of tokens gives us several options for which model to use"
   ]
  },
  {
   "cell_type": "markdown",
   "metadata": {},
   "source": [
    "## Ask some questions"
   ]
  },
  {
   "cell_type": "code",
   "execution_count": 18,
   "metadata": {},
   "outputs": [
    {
     "data": {
      "text/plain": [
       "'The \"FTC5a42.7k27\" reform provides the best value for money in supporting low-income households. This reform increases the Family Tax Credit (FTC) rate by 5 dollars per week and increases the abatement rate to 27%. It also costs 68 million dollars, considerably less than all other reforms.\\n\\nFor deciles 1 to 3 of equivalised disposable income (the lowest income households), winners from this reform experience weekly income increases of 10, 9, and 8 dollars respectively. Some households (particularly in deciles 3) do lose from this reform, but the mean weekly change for all households in these deciles remains positive. \\n\\nMoreover, this reform reduces both fixed-line AHC50 and moving-line BHC50 child poverty measures by 8000 and 5000 children respectively, considering the margins of error. This is a considerable achievement given the lower fiscal cost.'"
      ]
     },
     "execution_count": 18,
     "metadata": {},
     "output_type": "execute_result"
    }
   ],
   "source": [
    "chat.ask(\n",
    "    \"From a value for money perspective, which reform best supports low income households?\",\n",
    "    model = \"gpt-4\")"
   ]
  },
  {
   "cell_type": "code",
   "execution_count": 19,
   "metadata": {},
   "outputs": [
    {
     "name": "stdout",
     "output_type": "stream",
     "text": [
      "The \"FTC5a42.7k27\" reform provides the best value for money in supporting low-income households. This reform increases the Family Tax Credit (FTC) rate by 5 dollars per week and increases the abatement rate to 27%. It also costs 68 million dollars, considerably less than all other reforms.\n",
      "\n",
      "For deciles 1 to 3 of equivalised disposable income (the lowest income households), winners from this reform experience weekly income increases of 10, 9, and 8 dollars respectively. Some households (particularly in deciles 3) do lose from this reform, but the mean weekly change for all households in these deciles remains positive. \n",
      "\n",
      "Moreover, this reform reduces both fixed-line AHC50 and moving-line BHC50 child poverty measures by 8000 and 5000 children respectively, considering the margins of error. This is a considerable achievement given the lower fiscal cost.\n"
     ]
    }
   ],
   "source": [
    "print(chat.messages[-1]['content'])"
   ]
  },
  {
   "cell_type": "code",
   "execution_count": 20,
   "metadata": {},
   "outputs": [
    {
     "data": {
      "text/plain": [
       "'The \"FTC5a42.7k27\" reform is the most tightly targeted to low incomes. \\n\\nFor the first three deciles of equivalised disposable income (the lowest income groups), this reform provides weekly income increases of 10, 9, and 8 dollars respectively. This implies that the most substantial gains are seen by the lower-income households, thereby indicating that this reform is directed tightly at this income group.\\n\\nHowever, this reform also results in more losers amongst these initial deciles compared to the other reforms, with households in the third decile losing on average 5 dollars a week. By the fourth decile, the number of households losing from this reform exceeds those gaining and the weekly losses also grow larger, indicating that this reform targets support below this level.\\n\\nThis reform reduces child poverty, measured by the fixed-line AHC50 and moving-line BHC50 definitions, by 8000 and 5000 children respectively, considering the margins of error. Again, this shows the reform is effective in targeting low-income households with children.'"
      ]
     },
     "execution_count": 20,
     "metadata": {},
     "output_type": "execute_result"
    }
   ],
   "source": [
    "chat.ask(\"which reform is the most tightly targeted to low incomes?\", model = \"gpt-4\")"
   ]
  },
  {
   "cell_type": "code",
   "execution_count": 21,
   "metadata": {},
   "outputs": [
    {
     "name": "stdout",
     "output_type": "stream",
     "text": [
      "The \"FTC5a42.7k27\" reform is the most tightly targeted to low incomes. \n",
      "\n",
      "For the first three deciles of equivalised disposable income (the lowest income groups), this reform provides weekly income increases of 10, 9, and 8 dollars respectively. This implies that the most substantial gains are seen by the lower-income households, thereby indicating that this reform is directed tightly at this income group.\n",
      "\n",
      "However, this reform also results in more losers amongst these initial deciles compared to the other reforms, with households in the third decile losing on average 5 dollars a week. By the fourth decile, the number of households losing from this reform exceeds those gaining and the weekly losses also grow larger, indicating that this reform targets support below this level.\n",
      "\n",
      "This reform reduces child poverty, measured by the fixed-line AHC50 and moving-line BHC50 definitions, by 8000 and 5000 children respectively, considering the margins of error. Again, this shows the reform is effective in targeting low-income households with children.\n"
     ]
    }
   ],
   "source": [
    "print(chat.messages[-1]['content'])"
   ]
  },
  {
   "cell_type": "markdown",
   "metadata": {},
   "source": [
    "and a final check of the content tokens"
   ]
  },
  {
   "cell_type": "code",
   "execution_count": 22,
   "metadata": {},
   "outputs": [
    {
     "name": "stdout",
     "output_type": "stream",
     "text": [
      "Number of tokens: 2736\n"
     ]
    }
   ],
   "source": [
    "content = '\\n'.join([m['content'] for m in chat.messages])\n",
    "print(f\"Number of tokens: {num_tokens_from_string(content, 'gpt-4')}\")"
   ]
  },
  {
   "cell_type": "code",
   "execution_count": 23,
   "metadata": {},
   "outputs": [
    {
     "name": "stdout",
     "output_type": "stream",
     "text": [
      "Saved chat log to output/tawa_ai.txt\n"
     ]
    }
   ],
   "source": [
    "chat.write_txt(path='output/tawa_ai.txt')"
   ]
  }
 ],
 "metadata": {
  "kernelspec": {
   "display_name": "aipy-7XVxUsX7",
   "language": "python",
   "name": "python3"
  },
  "language_info": {
   "codemirror_mode": {
    "name": "ipython",
    "version": 3
   },
   "file_extension": ".py",
   "mimetype": "text/x-python",
   "name": "python",
   "nbconvert_exporter": "python",
   "pygments_lexer": "ipython3",
   "version": "3.11.4"
  }
 },
 "nbformat": 4,
 "nbformat_minor": 2
}
